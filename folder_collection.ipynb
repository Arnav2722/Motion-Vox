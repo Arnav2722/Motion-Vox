{
 "cells": [
  {
   "cell_type": "code",
   "execution_count": 3,
   "id": "68c99412-f62f-47bb-8af5-1d6843e3e8b1",
   "metadata": {
    "tags": []
   },
   "outputs": [],
   "source": [
    "import cv2\n",
    "import numpy as np\n",
    "import os\n",
    "from matplotlib import pyplot as plt\n",
    "import time\n",
    "import mediapipe as mp\n",
    "import os"
   ]
  },
  {
   "cell_type": "code",
   "execution_count": 4,
   "id": "e3693808-4849-4680-af8d-c295129755e2",
   "metadata": {},
   "outputs": [],
   "source": [
    "mp_holistic = mp.solutions.holistic\n",
    "mp_drawing = mp.solutions.drawing_utils\n",
    "\n",
    "# Path for exported data, numpy arrays\n",
    "DATA_PATH = os.path.join('MP_Data') \n",
    "\n",
    "\n",
    "# Actions that we try to detect\n",
    "actions = np.array(['namaste', 'hello', 'thanks', 'yes', 'no'])\n",
    "# Thirty videos worth of data\n",
    "no_sequences = 30\n",
    "\n",
    "\n",
    "# Videos are going to be 30 frames in length\n",
    "sequence_length = 30\n",
    "\n",
    "# Folder start\n",
    "start_folder = 30"
   ]
  },
  {
   "cell_type": "code",
   "execution_count": 5,
   "id": "9f2ece58-dc3d-47f8-a73b-e468391eefa9",
   "metadata": {},
   "outputs": [],
   "source": [
    "#for action in actions: \n",
    "for action in actions[3:]:\n",
    "    #dirmax = np.max(np.array(os.listdir(os.path.join(DATA_PATH, action))).astype(int))\n",
    "    for sequence in range(no_sequences):\n",
    "        try: \n",
    "            os.makedirs(os.path.join(DATA_PATH, action, str(sequence)))\n",
    "        except:\n",
    "            pass"
   ]
  },
  {
   "cell_type": "code",
   "execution_count": 6,
   "id": "84c48163-991e-47e8-8ed0-8905dd48659d",
   "metadata": {},
   "outputs": [
    {
     "name": "stdout",
     "output_type": "stream",
     "text": [
      "d:\\Projects\\Gesture-Recognition-System-Alphabet-To-Sentence\n"
     ]
    }
   ],
   "source": [
    "print(os.getcwd())"
   ]
  },
  {
   "cell_type": "code",
   "execution_count": 7,
   "id": "ef1a42e5-cc75-4101-b29e-56205d8d402a",
   "metadata": {},
   "outputs": [],
   "source": [
    "def extract_keypoints(results):\n",
    "    pose = np.array([[res.x, res.y, res.z, res.visibility] for res in results.pose_landmarks.landmark]).flatten() if results.pose_landmarks else np.zeros(33*4)\n",
    "    face = np.array([[res.x, res.y, res.z] for res in results.face_landmarks.landmark]).flatten() if results.face_landmarks else np.zeros(468*3)\n",
    "    lh = np.array([[res.x, res.y, res.z] for res in results.left_hand_landmarks.landmark]).flatten() if results.left_hand_landmarks else np.zeros(21*3)\n",
    "    rh = np.array([[res.x, res.y, res.z] for res in results.right_hand_landmarks.landmark]).flatten() if results.right_hand_landmarks else np.zeros(21*3)\n",
    "    return np.concatenate([pose, face, lh, rh])\n"
   ]
  },
  {
   "cell_type": "code",
   "execution_count": 8,
   "id": "04d8773a-3f36-479b-a914-391f4030dc5a",
   "metadata": {},
   "outputs": [],
   "source": [
    "#Collecting Data_Set via Camera"
   ]
  },
  {
   "cell_type": "code",
   "execution_count": 9,
   "id": "af143b56-68ab-4d27-a0b3-07d5b8f118c6",
   "metadata": {
    "tags": []
   },
   "outputs": [],
   "source": [
    "try:\n",
    "    cap = cv2.VideoCapture(0)\n",
    "    # Set mediapipe model\n",
    "\n",
    "    with mp_holistic.Holistic(min_detection_confidence=0.5, min_tracking_confidence=0.5) as holistic:\n",
    "\n",
    "        # NEW LOOP\n",
    "        # Loop through actions\n",
    "\n",
    "        for action in actions:\n",
    "            # Loop through sequences aka videos\n",
    "\n",
    "            for sequence in range(no_sequences):\n",
    "                # Loop through video length aka sequence length\n",
    "\n",
    "                for frame_num in range(sequence_length):\n",
    "\n",
    "                    # Read feed\n",
    "\n",
    "                    ret, frame = cap.read()\n",
    "\n",
    "\n",
    "                image = cv2.cvtColor(frame, cv2.COLOR_BGR2RGB) # Convert the BGR image to RGB.\n",
    "\n",
    "                image.flags.writeable = False                  # Set the image to not writeable to pass by reference.\n",
    "\n",
    "                results = holistic.process(image)              # Make detections\n",
    "\n",
    "                # Draw landmarks\n",
    "\n",
    "                image.flags.writeable = True                   # Set the image to writeable.\n",
    "\n",
    "                image = cv2.cvtColor(image, cv2.COLOR_RGB2BGR) # Convert the RGB image to BGR.\n",
    "\n",
    "                mp_drawing.draw_landmarks(image, results.face_landmarks, mp_holistic.FACEMESH_TESSELATION) # Draw the face landmarks on the image.\n",
    "\n",
    "\n",
    "                # NEW Apply wait logic\n",
    "\n",
    "                if frame_num == 0: \n",
    "\n",
    "                    cv2.putText(image, 'STARTING COLLECTION', (120,200), \n",
    "\n",
    "                            cv2.FONT_HERSHEY_SIMPLEX, 1, (0,255, 0), 4, cv2.LINE_AA)\n",
    "\n",
    "                    cv2.putText(image, 'Collecting frames for {} Video Number {}'.format(action, sequence), (15,12), \n",
    "\n",
    "                            cv2.FONT_HERSHEY_SIMPLEX, 0.5, (0, 0, 255), 1, cv2.LINE_AA)\n",
    "\n",
    "                    # Show to screen\n",
    "\n",
    "                    cv2.imshow('OpenCV Feed', image)\n",
    "\n",
    "                    cv2.waitKey(500)\n",
    "\n",
    "                else: \n",
    "\n",
    "                    cv2.putText(image, 'Collecting frames for {} Video Number {}'.format(action, sequence), (15,12), \n",
    "\n",
    "                            cv2.FONT_HERSHEY_SIMPLEX, 0.5, (0, 0, 255), 1, cv2.LINE_AA)\n",
    "\n",
    "                    # Show to screen\n",
    "\n",
    "                    cv2.imshow('OpenCV Feed', image)\n",
    "\n",
    "\n",
    "                # NEW Export keypoints\n",
    "\n",
    "                keypoints = extract_keypoints(results)\n",
    "\n",
    "                npy_path = os.path.join(DATA_PATH, action, str(sequence), str(frame_num))\n",
    "\n",
    "                np.save(npy_path, keypoints)\n",
    "\n",
    "\n",
    "                # Break gracefully\n",
    "\n",
    "                if cv2.waitKey(10) & 0xFF == ord('q'):\n",
    "\n",
    "                    break\n",
    "\n",
    "    cap.release()\n",
    "\n",
    "    cv2.destroyAllWindows()\n",
    "except KeyboardInterrupt:\n",
    "    print(\"Interrupt received. Exiting program.\")"
   ]
  },
  {
   "cell_type": "markdown",
   "id": "35dcadf7-8f40-4d22-b1ae-6dc0d2f618af",
   "metadata": {},
   "source": [
    "Next GO to pre_processing.ipynb"
   ]
  }
 ],
 "metadata": {
  "kernelspec": {
   "display_name": "Python 3",
   "language": "python",
   "name": "python3"
  },
  "language_info": {
   "codemirror_mode": {
    "name": "ipython",
    "version": 3
   },
   "file_extension": ".py",
   "mimetype": "text/x-python",
   "name": "python",
   "nbconvert_exporter": "python",
   "pygments_lexer": "ipython3",
   "version": "3.8.18"
  }
 },
 "nbformat": 4,
 "nbformat_minor": 5
}
